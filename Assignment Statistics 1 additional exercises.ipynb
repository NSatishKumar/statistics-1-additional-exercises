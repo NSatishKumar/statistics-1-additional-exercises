{
 "cells": [
  {
   "cell_type": "markdown",
   "metadata": {},
   "source": [
    "## Problem 1\n",
    "The    marks   awarded    for  an  assignment    set  for  a  Year   8  class  of  20  students   were   as  follows: \n",
    "6   7    5    7    7   8    7    6    9    7 4    10    6   8    8    9    5    6   4    8 "
   ]
  },
  {
   "cell_type": "code",
   "execution_count": 7,
   "metadata": {},
   "outputs": [],
   "source": [
    "import os"
   ]
  },
  {
   "cell_type": "markdown",
   "metadata": {},
   "source": [
    "<img src=\"Stacs1_2/Stacs1_A1.jpg\">"
   ]
  },
  {
   "cell_type": "code",
   "execution_count": 2,
   "metadata": {},
   "outputs": [],
   "source": [
    "# Standard deviation"
   ]
  },
  {
   "cell_type": "markdown",
   "metadata": {},
   "source": [
    "<img src=\"Stacs1_2/Stacs1_A1_1.jpg\">"
   ]
  },
  {
   "cell_type": "code",
   "execution_count": null,
   "metadata": {},
   "outputs": [],
   "source": []
  },
  {
   "cell_type": "markdown",
   "metadata": {},
   "source": [
    "## Problem Statement 2: \n",
    "\n",
    "The number of calls from motorists per day for roadside service was recorded for a particular month: \n",
    "28, 122, 217, 130, 120, 86, 80, 90, 140, 120, 70, 40, 145, 113, 90, 68, 174, 194, 170, 100, 75, 104, 97, 75, \n",
    "123, 100, 75, 104, 97, 75, 123, 100, 89, 120, 109 \n",
    "\n"
   ]
  },
  {
   "cell_type": "markdown",
   "metadata": {},
   "source": [
    "<img src=\"Stacs1_2/Stacs1_A2.jpg\">"
   ]
  },
  {
   "cell_type": "code",
   "execution_count": null,
   "metadata": {},
   "outputs": [],
   "source": [
    "# Mode and standard deviation"
   ]
  },
  {
   "cell_type": "markdown",
   "metadata": {},
   "source": [
    "<img src=\"Stacs1_2/Stacs1_A2_2.jpg\">"
   ]
  },
  {
   "cell_type": "code",
   "execution_count": null,
   "metadata": {},
   "outputs": [],
   "source": []
  },
  {
   "cell_type": "markdown",
   "metadata": {},
   "source": [
    "## Problem Statement 3:\n",
    "\n",
    "The number of times I go to the gym in weekdays, are given below along with its associated probability: \n",
    "x = 0, 1, 2, 3, 4, 5 \n",
    "\n",
    "f(x) = 0.09, 0.15, 0.40, 0.25, 0.10, 0.01 \n",
    "\n",
    "Calculate the mean no. of workouts in a week. Also evaluate the variance involved in it."
   ]
  },
  {
   "cell_type": "markdown",
   "metadata": {},
   "source": [
    "<img src=\"Stacs1_2/Stacs1a_3_1.jpg\">"
   ]
  },
  {
   "cell_type": "code",
   "execution_count": 5,
   "metadata": {},
   "outputs": [],
   "source": [
    "# Variance"
   ]
  },
  {
   "cell_type": "markdown",
   "metadata": {},
   "source": [
    "<img src=\"Stacs1_2/Stacs1A_3_2.jpg\">"
   ]
  },
  {
   "cell_type": "code",
   "execution_count": null,
   "metadata": {},
   "outputs": [],
   "source": []
  },
  {
   "cell_type": "markdown",
   "metadata": {},
   "source": [
    "## Problem Statement 4:\n",
    "\n",
    "Let the continuous random variable D denote the diameter of the hole drilled in an aluminum sheet. The \n",
    "target diameter to be achieved is 12.5mm. Random disturbances in the process often result in inaccuracy. \n",
    "                                                                                       ( )         −20(𝑑−12.5) \n",
    "Historical data shows that the distribution of D can be modelled by the PDF\n",
    "12.5. If a part with diameter > 12.6 mm needs to be scrapped, what is the proportion of those parts?  What \n",
    "is the CDF when the diameter is of 11 mm? What is your conclusion regarding the proportion of scraps? "
   ]
  },
  {
   "cell_type": "markdown",
   "metadata": {},
   "source": [
    "<img src=\"Stacs1_2/Stacs1A_4.jpg\">"
   ]
  },
  {
   "cell_type": "code",
   "execution_count": null,
   "metadata": {},
   "outputs": [],
   "source": []
  }
 ],
 "metadata": {
  "kernelspec": {
   "display_name": "Python 3",
   "language": "python",
   "name": "python3"
  },
  "language_info": {
   "codemirror_mode": {
    "name": "ipython",
    "version": 3
   },
   "file_extension": ".py",
   "mimetype": "text/x-python",
   "name": "python",
   "nbconvert_exporter": "python",
   "pygments_lexer": "ipython3",
   "version": "3.7.0"
  }
 },
 "nbformat": 4,
 "nbformat_minor": 2
}
